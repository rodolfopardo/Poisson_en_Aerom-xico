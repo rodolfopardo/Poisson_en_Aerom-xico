{
 "cells": [
  {
   "cell_type": "markdown",
   "metadata": {},
   "source": [
    "## Poisson en un vuelo de Aeroméxico con destino a Buenos Aires "
   ]
  },
  {
   "attachments": {},
   "cell_type": "markdown",
   "metadata": {},
   "source": [
    "<img src=\"aeromexico.jpg\">"
   ]
  },
  {
   "cell_type": "markdown",
   "metadata": {},
   "source": [
    "#### En un vuelo de la aerolínea Aeroméxico con origen en la Ciudad de México y teniendo como destino la ciudad de Buenos Aires, una azafata atiende en promedio 20 personas cada 10 minutos en clase ejecutiva."
   ]
  },
  {
   "cell_type": "markdown",
   "metadata": {},
   "source": [
    "##### Problemas a resolver: \n",
    "\n",
    "1. ¿Cuál es la probabilidad de que atienda a 30 personas en 10 minutos? \n",
    "2. ¿Cuál es la probabilidad de que atienda a 15 personas en 10 minutos? "
   ]
  },
  {
   "cell_type": "markdown",
   "metadata": {},
   "source": [
    "<font color=blue>Primer problema a resolver"
   ]
  },
  {
   "cell_type": "code",
   "execution_count": 68,
   "metadata": {},
   "outputs": [],
   "source": [
    "#Importamos las librerias necesarias para comenzar a resolver los problemas \n",
    "\n",
    "from scipy.stats import poisson\n",
    "import seaborn as sb"
   ]
  },
  {
   "cell_type": "code",
   "execution_count": 69,
   "metadata": {},
   "outputs": [],
   "source": [
    "#El promedio del problema\n",
    "promedio = 20\n",
    "#La cantidad de personas que necesitamos comprobar en probabilidad\n",
    "p = 30\n",
    "\n",
    "#Utilizamos la funcion de poisson\n",
    "data_rvs = poisson.rvs(mu=20, size=30)\n",
    "#Calculamos probabilidad de masa\n",
    "pob = poisson.pmf(20,30)\n",
    "#Calculamos probabilidad acumulativa\n",
    "pob_2 = poisson.cdf(20,30)"
   ]
  },
  {
   "cell_type": "code",
   "execution_count": 70,
   "metadata": {},
   "outputs": [
    {
     "name": "stdout",
     "output_type": "stream",
     "text": [
      "La probabilidad de que atienda a 30 personas es de 0.0134\n"
     ]
    }
   ],
   "source": [
    "#La probabilidad de que atienda a 30 personas \n",
    "\n",
    "print('La probabilidad de que atienda a 30 personas es de %.4f' % pob)"
   ]
  },
  {
   "cell_type": "code",
   "execution_count": 71,
   "metadata": {},
   "outputs": [
    {
     "data": {
      "text/plain": [
       "[Text(0, 0.5, 'Frecuencia'), Text(0.5, 0, 'Poisson')]"
      ]
     },
     "execution_count": 71,
     "metadata": {},
     "output_type": "execute_result"
    },
    {
     "data": {
      "image/png": "[encoded data removed]",
      "text/plain": [
       "<Figure size 432x288 with 1 Axes>"
      ]
     },
     "metadata": {
      "needs_background": "light"
     },
     "output_type": "display_data"
    }
   ],
   "source": [
    "#Graficamos el ejemplo que nos va a demostrar que va a ser muy dificil de que atienda a tanta cantidadd e personas\n",
    "#Mas precisamente 13%\n",
    "\n",
    "ax = sb.distplot(data_rvs,\n",
    "                  kde=True,\n",
    "                  color='green',\n",
    "                  hist_kws={\"linewidth\": 40,'alpha':1})\n",
    "ax.set(xlabel='Poisson', ylabel='Frecuencia')"
   ]
  },
  {
   "cell_type": "markdown",
   "metadata": {},
   "source": [
    "<font color=blue>Segundo problema"
   ]
  },
  {
   "cell_type": "code",
   "execution_count": 72,
   "metadata": {},
   "outputs": [],
   "source": [
    "#El promedio del problema\n",
    "promedio = 20\n",
    "#La cantidad de personas que necesitamos comprobar en probabilidad\n",
    "p = 15\n",
    "\n",
    "#Utilizamos la funcion de poisson\n",
    "data_rvs = poisson.rvs(mu=20, size=15)\n",
    "#Calculamos probabilidad de masa\n",
    "pob = poisson.pmf(20,15)\n",
    "#Calculamos probabilidad acumulativa\n",
    "pob_2 = poisson.cdf(20,15)"
   ]
  },
  {
   "cell_type": "code",
   "execution_count": 73,
   "metadata": {},
   "outputs": [
    {
     "name": "stdout",
     "output_type": "stream",
     "text": [
      "La probabilidad de que atienda a 6 personas es de 0.0418\n"
     ]
    }
   ],
   "source": [
    "print('La probabilidad de que atienda a 6 personas es de %.4f' % pob)\n",
    "#print \"{0:.0f}%\".format(pob)"
   ]
  },
  {
   "cell_type": "code",
   "execution_count": 74,
   "metadata": {},
   "outputs": [
    {
     "data": {
      "text/plain": [
       "[Text(0, 0.5, 'Frecuencia'), Text(0.5, 0, 'Poisson')]"
      ]
     },
     "execution_count": 74,
     "metadata": {},
     "output_type": "execute_result"
    },
    {
     "data": {
      "image/png": "[encoded data removed]",
      "text/plain": [
       "<Figure size 432x288 with 1 Axes>"
      ]
     },
     "metadata": {
      "needs_background": "light"
     },
     "output_type": "display_data"
    }
   ],
   "source": [
    "#Graficamos el ejemplo que nos va a demostrar que va a ser muy dificil de que atienda a tanta cantidadd e personas\n",
    "#Mas precisamente 13%\n",
    "\n",
    "ax = sb.distplot(data_rvs,\n",
    "                  kde=True,\n",
    "                  color='blue',\n",
    "                  hist_kws={\"linewidth\": 50,'alpha':1})\n",
    "ax.set(xlabel='Poisson', ylabel='Frecuencia')"
   ]
  },
  {
   "cell_type": "markdown",
   "metadata": {},
   "source": [
    "Es mucho más alta la probabilidad de que una azafata de avión con el promedio citado, brinde servicio a 10 personas en dicho vuelo que a 30 personas. "
   ]
  },
  {
   "cell_type": "code",
   "execution_count": null,
   "metadata": {},
   "outputs": [],
   "source": []
  }
 ],
 "metadata": {
  "kernelspec": {
   "display_name": "Python 3",
   "language": "python",
   "name": "python3"
  },
  "language_info": {
   "codemirror_mode": {
    "name": "ipython",
    "version": 3
   },
   "file_extension": ".py",
   "mimetype": "text/x-python",
   "name": "python",
   "nbconvert_exporter": "python",
   "pygments_lexer": "ipython3",
   "version": "3.7.3"
  }
 },
 "nbformat": 4,
 "nbformat_minor": 2
}
